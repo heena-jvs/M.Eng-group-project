{
 "cells": [
  {
   "cell_type": "code",
   "execution_count": 1,
   "metadata": {},
   "outputs": [],
   "source": [
    "import numpy as np\n",
    "import math\n",
    "import pandas as pd\n",
    "import datetime as dt\n",
    "import os\n",
    "import time\n",
    "from statsmodels.tsa.seasonal import seasonal_decompose\n",
    "import statsmodels.api as sm\n",
    "from sklearn.preprocessing import MinMaxScaler\n",
    "from sklearn.ensemble.gradient_boosting import GradientBoostingRegressor\n",
    "from sklearn.preprocessing import StandardScaler\n",
    "from sklearn.linear_model import LinearRegression\n",
    "from sklearn.kernel_ridge import KernelRidge\n",
    "from sklearn.metrics import mean_squared_error\n",
    "from sklearn.preprocessing import Imputer\n",
    "import matplotlib.pyplot as plt\n",
    "%matplotlib inline \n"
   ]
  },
  {
   "cell_type": "markdown",
   "metadata": {},
   "source": [
    "Data import and add days together"
   ]
  },
  {
   "cell_type": "code",
   "execution_count": 16,
   "metadata": {},
   "outputs": [
    {
     "name": "stdout",
     "output_type": "stream",
     "text": [
      "       Dates   Pounds\n",
      "0 2016-01-10  13340.0\n",
      "1 2016-01-17  15287.0\n",
      "2 2016-01-24  19168.0\n",
      "3 2016-01-31  20153.0\n",
      "4 2016-02-07  25672.0\n",
      "(123, 2)\n"
     ]
    }
   ],
   "source": [
    "df=pd.read_excel(\"D:\\\\360MoveData\\\\Users\\\\historia\\\\Desktop\\\\MEng\\\\nutVal.xlsx\",sheet_name=\"combination\",dtype=\"object\", names = ['Dates', 'Quantity', 'Pounds', 'value','Nutrition category'])\n",
    "df['Dates'] = pd.to_datetime(df['Dates'])\n",
    "df = df.set_index('Dates')\n",
    "s = pd.Series(df['Pounds'], index=df.index )\n",
    "s = s.resample('w').sum()\n",
    "s.drop(s[s == False].index, inplace=True)\n",
    "df1 = pd.DataFrame({'Dates':s.index, 'Pounds':s.values})\n",
    "print(df1.head(5))\n",
    "print(df1.shape)\n",
    "#print(df1['Dates'][100])\n"
   ]
  },
  {
   "cell_type": "code",
   "execution_count": 3,
   "metadata": {},
   "outputs": [],
   "source": [
    "#Other way to import data copied from my SVR code, they may not be so useful but I put it here.\n",
    "# print(df1)\n",
    "# m=[]\n",
    "# n=[]\n",
    "# for i in range(len(df1['Dates'])):\n",
    "#     m.append(i)\n",
    "#     n.append(df1['Quantity'][i])\n",
    "# m=np.array(m).reshape(-1,len(m)).T\n",
    "# a=input('Input the train weeks:')\n",
    "# b=input('Input the test weeks:')\n",
    "# TRAIN_SIZE=int(a)\n",
    "# TEST_SIZE=int(b)\n",
    "#data = pd.read_csv('D:\\\\360MoveData\\\\Users\\\\historia\\\\Desktop\\\\Dessert.csv')"
   ]
  },
  {
   "cell_type": "markdown",
   "metadata": {},
   "source": [
    "Smoothing and normalize the data"
   ]
  },
  {
   "cell_type": "code",
   "execution_count": 21,
   "metadata": {},
   "outputs": [
    {
     "name": "stdout",
     "output_type": "stream",
     "text": [
      "Input the train days:100\n",
      "Input the full size of the data:123\n",
      "[[ 7774. ]\n",
      " [17985. ]\n",
      " [10348. ]\n",
      " [20948. ]\n",
      " [12292. ]\n",
      " [16467. ]\n",
      " [34021. ]\n",
      " [19471. ]\n",
      " [20506. ]\n",
      " [15767. ]\n",
      " [28429. ]\n",
      " [ 4841. ]\n",
      " [33521. ]\n",
      " [14230.5]\n",
      " [24173. ]\n",
      " [ 9828. ]\n",
      " [18460. ]\n",
      " [ 8968. ]\n",
      " [58211. ]\n",
      " [ 9370. ]\n",
      " [32369. ]\n",
      " [12260. ]\n",
      " [ 5469. ]\n",
      " [ 9552. ]\n",
      " [26206. ]\n",
      " [28673. ]\n",
      " [12850. ]\n",
      " [35927. ]\n",
      " [15312. ]\n",
      " [12147. ]]\n"
     ]
    }
   ],
   "source": [
    "#### Store the quantity data in a variable\n",
    "Quantity_Supply = df1.loc[:, 'Pounds'].values.astype(float)\n",
    "a=input('Input the train days:')\n",
    "TRAIN_SIZE=int(a)\n",
    "FULL_SIZE=int(input('Input the full size of the data:'))\n",
    "TEST_SIZE=FULL_SIZE-TRAIN_SIZE\n",
    "######################### if use other types the test size will change ########################################  \n",
    "\n",
    "# Split the data into testing data and training data\n",
    "train_data = Quantity_Supply[:TRAIN_SIZE]\n",
    "test_data = Quantity_Supply[TRAIN_SIZE:]\n",
    "\n",
    "##Normalizing the Data\n",
    "#Scale the data to be between 0 and 1\n",
    "# When scaling remember! You normalize both test and train data with respect to training data\n",
    "# Because you are not supposed to have access to test data\n",
    "scaler = MinMaxScaler()\n",
    "train_data = train_data.reshape(-1,1)\n",
    "test_data = test_data.reshape(-1,1)\n",
    "\n",
    "# Train the Scaler with training data and smooth data\n",
    "# smoothing_window_size = int(120)\n",
    "# for i in range(0,240,smoothing_window_size):\n",
    "#     scaler.fit(train_data[i:i+smoothing_window_size,:])\n",
    "#     train_data[i:i+smoothing_window_size,:] = scaler.transform(train_data[i:i+smoothing_window_size,:])\n",
    "smoothing_window_size = int(35)\n",
    "for i in range(0,70,smoothing_window_size):\n",
    "    scaler.fit(train_data[i:i+smoothing_window_size,:])\n",
    "    train_data[i:i+smoothing_window_size,:] = scaler.transform(train_data[i:i+smoothing_window_size,:])\n",
    "\n",
    "# You normalize the last bit of remaining data\n",
    "print(train_data[i+smoothing_window_size:,:])\n",
    "scaler.fit(train_data[i+smoothing_window_size:,:])\n",
    "train_data[i+smoothing_window_size:,:] = scaler.transform(train_data[i+smoothing_window_size:,:])\n",
    "\n",
    "# Reshape both train and test data\n",
    "train_data = train_data.reshape(-1)\n",
    "\n",
    "# Normalize test data\n",
    "test_data = scaler.transform(test_data).reshape(-1)\n",
    "all_quant_data = np.concatenate([train_data,test_data],axis=0)\n",
    "#Now perform exponential moving average smoothing\n",
    "#So the data will have a smoother curve than the original ragged data\n",
    "EMA = 0.0\n",
    "gamma = 0.1\n",
    "for ti in range(FULL_SIZE):\n",
    "  EMA = gamma*all_quant_data[ti] + (1-gamma)*EMA\n",
    "  all_quant_data[ti] = EMA\n",
    "train_data = all_quant_data[:TRAIN_SIZE]\n",
    "test_data = all_quant_data[TRAIN_SIZE:]\n",
    "# EMA = 0.0\n",
    "# gamma = 0.1\n",
    "# for ti in range(TRAIN_SIZE):\n",
    "#   EMA = gamma*train_data[ti] + (1-gamma)*EMA\n",
    "#   train_data[ti] = EMA\n",
    "# # So the data will have a smoother curve than the original ragged data\n",
    "# EMA = 0.0\n",
    "# gamma = 0.1\n",
    "# for ti in range(FULL_SIZE-TRAIN_SIZE):\n",
    "#   EMA = gamma*test_data[ti] + (1-gamma)*EMA\n",
    "#   test_data[ti] = EMA"
   ]
  },
  {
   "cell_type": "markdown",
   "metadata": {},
   "source": [
    "Decompose and plot the picture of decomposing (If needed)"
   ]
  },
  {
   "cell_type": "code",
   "execution_count": 19,
   "metadata": {},
   "outputs": [
    {
     "name": "stdout",
     "output_type": "stream",
     "text": [
      "17\n"
     ]
    }
   ],
   "source": [
    "print(len(test_data[6:]))\n",
    "# data.index=pd.DatetimeIndex(freq='d',start=0,periods=576)\n",
    "# result = seasonal_decompose(data, model='additive')\n",
    "# # Decomposing\n",
    "# decomp = sm.tsa.seasonal_decompose(data)\n",
    "# decomp.plot()\n",
    "# plt.show()"
   ]
  },
  {
   "cell_type": "markdown",
   "metadata": {},
   "source": [
    "Using polynomial linear regression"
   ]
  },
  {
   "cell_type": "code",
   "execution_count": 25,
   "metadata": {},
   "outputs": [
    {
     "name": "stdout",
     "output_type": "stream",
     "text": [
      "Input the Polynomial features:5\n"
     ]
    }
   ],
   "source": [
    "from sklearn.preprocessing import PolynomialFeatures \n",
    "b=int(input('Input the Polynomial features:'))\n",
    "polynomial_features= PolynomialFeatures(degree=b)\n",
    "x = np.array(range(1,TRAIN_SIZE+1))\n",
    "x = x.reshape(TRAIN_SIZE,-1)\n",
    "x_t = np.array(range(TRAIN_SIZE+1,FULL_SIZE+1))\n",
    "x_t = x_t.reshape(TEST_SIZE,1)\n",
    "x_poly = polynomial_features.fit_transform(x)\n",
    "lr = LinearRegression()\n",
    "lr.fit(x_poly, train_data)\n",
    "#pred_test=lr.predict(polynomial_features.fit_transform(x_t))\n",
    "pred_test=lr.fit(x_poly, train_data).predict(polynomial_features.fit_transform(x_t))\n",
    "pred_train=lr.fit(x_poly, train_data).predict(polynomial_features.fit_transform(x))\n",
    "#Full data size is 570 and if change the testing data to each type this 576 will have to be changed.\n",
    "\n",
    "#print(pred_test)"
   ]
  },
  {
   "cell_type": "markdown",
   "metadata": {},
   "source": [
    "Calculate the MSE and SMSE"
   ]
  },
  {
   "cell_type": "code",
   "execution_count": 26,
   "metadata": {},
   "outputs": [
    {
     "name": "stdout",
     "output_type": "stream",
     "text": [
      "The MSE is 0.14043405823329122 The smse is 0.37474532449824005\n"
     ]
    }
   ],
   "source": [
    "mse=mean_squared_error(test_data, pred_test)\n",
    "smse=np.sqrt(mean_squared_error(test_data, pred_test))\n",
    "print('The MSE is',mse,'The smse is',smse)"
   ]
  },
  {
   "cell_type": "markdown",
   "metadata": {},
   "source": [
    "Draw the plot"
   ]
  },
  {
   "cell_type": "code",
   "execution_count": 27,
   "metadata": {},
   "outputs": [
    {
     "data": {
      "image/png": "[encoded data removed]",
      "text/plain": [
       "<Figure size 1296x648 with 1 Axes>"
      ]
     },
     "metadata": {
      "needs_background": "light"
     },
     "output_type": "display_data"
    }
   ],
   "source": [
    "plt.figure(figsize = (18,9))\n",
    "plt.plot([x for x in range(TRAIN_SIZE+1,TRAIN_SIZE+TEST_SIZE+1)], pred_test, linestyle='-', color='red', label='prediction model')  \n",
    "plt.plot([x for x in range(1,TRAIN_SIZE+1)], pred_train, linestyle='-', color='red')\n",
    "plt.plot(x,train_data, linestyle='-', color='blue', label='actual model')\n",
    "plt.plot(x_t,test_data, linestyle='-', color='blue')\n",
    "# plt.plot(x_c,y_c, linestyle='-', color='blue')\n",
    "#plt.xlim(470,570)\n",
    "\n",
    "plt.legend(loc='best', prop={'size':20})\n",
    "plt.show()"
   ]
  },
  {
   "cell_type": "markdown",
   "metadata": {},
   "source": [
    "Calculate the time of processing"
   ]
  },
  {
   "cell_type": "code",
   "execution_count": 9,
   "metadata": {},
   "outputs": [
    {
     "name": "stdout",
     "output_type": "stream",
     "text": [
      "The processing time of the model is:  0.00016149999999015563\n"
     ]
    },
    {
     "name": "stderr",
     "output_type": "stream",
     "text": [
      "D:\\work\\Anaconda\\lib\\site-packages\\ipykernel_launcher.py:1: DeprecationWarning: time.clock has been deprecated in Python 3.3 and will be removed from Python 3.8: use time.perf_counter or time.process_time instead\n",
      "  \"\"\"Entry point for launching an IPython kernel.\n",
      "D:\\work\\Anaconda\\lib\\site-packages\\ipykernel_launcher.py:2: DeprecationWarning: time.clock has been deprecated in Python 3.3 and will be removed from Python 3.8: use time.perf_counter or time.process_time instead\n",
      "  \n"
     ]
    }
   ],
   "source": [
    "start = time.clock()\n",
    "end = time.clock()\n",
    "run_time = end - start\n",
    "rt=run_time\n",
    "print('The processing time of the model is: ',rt)"
   ]
  }
 ],
 "metadata": {
  "kernelspec": {
   "display_name": "Python 3",
   "language": "python",
   "name": "python3"
  },
  "language_info": {
   "codemirror_mode": {
    "name": "ipython",
    "version": 3
   },
   "file_extension": ".py",
   "mimetype": "text/x-python",
   "name": "python",
   "nbconvert_exporter": "python",
   "pygments_lexer": "ipython3",
   "version": "3.6.10"
  }
 },
 "nbformat": 4,
 "nbformat_minor": 2
}
