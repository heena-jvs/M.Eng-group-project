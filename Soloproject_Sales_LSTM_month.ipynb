{
 "cells": [
  {
   "cell_type": "code",
   "execution_count": 778,
   "metadata": {},
   "outputs": [],
   "source": [
    "import numpy as np\n",
    "import matplotlib.pyplot as plt\n",
    "import pandas as pd\n",
    "pd.set_option('display.float_format', lambda x: '%.4f' % x)\n",
    "import seaborn as sns\n",
    "sns.set_context(\"paper\", font_scale=1.3)\n",
    "sns.set_style('white')\n",
    "import warnings\n",
    "warnings.filterwarnings('ignore')\n",
    "from time import time\n",
    "import matplotlib.ticker as tkr\n",
    "from scipy import stats\n",
    "from statsmodels.tsa.stattools import adfuller\n",
    "from sklearn import preprocessing\n",
    "from statsmodels.tsa.stattools import pacf\n",
    "%matplotlib inline\n",
    "import math\n",
    "import keras\n",
    "from keras.models import Sequential\n",
    "from keras.layers import Dense\n",
    "from keras.layers import LSTM\n",
    "from keras.layers import Dropout\n",
    "from keras.layers import *\n",
    "from sklearn.preprocessing import MinMaxScaler\n",
    "from sklearn.metrics import mean_squared_error\n",
    "from sklearn.metrics import mean_absolute_error\n",
    "from keras.callbacks import EarlyStopping"
   ]
  },
  {
   "cell_type": "code",
   "execution_count": 779,
   "metadata": {},
   "outputs": [],
   "source": [
    "import pandas as pd\n",
    "#%matplotlib inline\n",
    "import matplotlib.pyplot as plt\n",
    "import numpy as np\n",
    "from sklearn.model_selection import train_test_split\n",
    "import seaborn as sns\n",
    "from scipy import stats\n",
    "from datetime import datetime\n",
    "from pylab import rcParams\n",
    "import statsmodels.api as sm\n",
    "import itertools\n",
    "from pandas import read_csv\n",
    "import math\n",
    "from keras.models import Sequential\n",
    "from keras.layers import Dense\n",
    "from keras.layers import LSTM\n",
    "from sklearn.preprocessing import MinMaxScaler\n",
    "from sklearn.metrics import mean_squared_error"
   ]
  },
  {
   "cell_type": "code",
   "execution_count": 780,
   "metadata": {},
   "outputs": [
    {
     "data": {
      "text/html": [
       "<div>\n",
       "<style scoped>\n",
       "    .dataframe tbody tr th:only-of-type {\n",
       "        vertical-align: middle;\n",
       "    }\n",
       "\n",
       "    .dataframe tbody tr th {\n",
       "        vertical-align: top;\n",
       "    }\n",
       "\n",
       "    .dataframe thead th {\n",
       "        text-align: right;\n",
       "    }\n",
       "</style>\n",
       "<table border=\"1\" class=\"dataframe\">\n",
       "  <thead>\n",
       "    <tr style=\"text-align: right;\">\n",
       "      <th></th>\n",
       "      <th>datum</th>\n",
       "      <th>M01AB</th>\n",
       "      <th>M01AE</th>\n",
       "      <th>N02BA</th>\n",
       "      <th>N02BE</th>\n",
       "      <th>N05B</th>\n",
       "      <th>N05C</th>\n",
       "      <th>R03</th>\n",
       "      <th>R06</th>\n",
       "      <th>Total sales</th>\n",
       "      <th>Year</th>\n",
       "      <th>Month</th>\n",
       "      <th>Hour</th>\n",
       "      <th>Weekday Name</th>\n",
       "    </tr>\n",
       "  </thead>\n",
       "  <tbody>\n",
       "    <tr>\n",
       "      <th>0</th>\n",
       "      <td>1/2/2014</td>\n",
       "      <td>0.0000</td>\n",
       "      <td>3.6700</td>\n",
       "      <td>3.4000</td>\n",
       "      <td>32.4000</td>\n",
       "      <td>7.0000</td>\n",
       "      <td>0.0000</td>\n",
       "      <td>0.0000</td>\n",
       "      <td>2.0000</td>\n",
       "      <td>48.4700</td>\n",
       "      <td>2014</td>\n",
       "      <td>1</td>\n",
       "      <td>248</td>\n",
       "      <td>Thursday</td>\n",
       "    </tr>\n",
       "    <tr>\n",
       "      <th>1</th>\n",
       "      <td>1/3/2014</td>\n",
       "      <td>8.0000</td>\n",
       "      <td>4.0000</td>\n",
       "      <td>4.4000</td>\n",
       "      <td>50.6000</td>\n",
       "      <td>16.0000</td>\n",
       "      <td>0.0000</td>\n",
       "      <td>20.0000</td>\n",
       "      <td>4.0000</td>\n",
       "      <td>107.0000</td>\n",
       "      <td>2014</td>\n",
       "      <td>1</td>\n",
       "      <td>276</td>\n",
       "      <td>Friday</td>\n",
       "    </tr>\n",
       "    <tr>\n",
       "      <th>2</th>\n",
       "      <td>1/4/2014</td>\n",
       "      <td>2.0000</td>\n",
       "      <td>1.0000</td>\n",
       "      <td>6.5000</td>\n",
       "      <td>61.8500</td>\n",
       "      <td>10.0000</td>\n",
       "      <td>0.0000</td>\n",
       "      <td>9.0000</td>\n",
       "      <td>1.0000</td>\n",
       "      <td>91.3500</td>\n",
       "      <td>2014</td>\n",
       "      <td>1</td>\n",
       "      <td>276</td>\n",
       "      <td>Saturday</td>\n",
       "    </tr>\n",
       "    <tr>\n",
       "      <th>3</th>\n",
       "      <td>1/5/2014</td>\n",
       "      <td>4.0000</td>\n",
       "      <td>3.0000</td>\n",
       "      <td>7.0000</td>\n",
       "      <td>41.1000</td>\n",
       "      <td>8.0000</td>\n",
       "      <td>0.0000</td>\n",
       "      <td>3.0000</td>\n",
       "      <td>0.0000</td>\n",
       "      <td>66.1000</td>\n",
       "      <td>2014</td>\n",
       "      <td>1</td>\n",
       "      <td>276</td>\n",
       "      <td>Sunday</td>\n",
       "    </tr>\n",
       "    <tr>\n",
       "      <th>4</th>\n",
       "      <td>1/6/2014</td>\n",
       "      <td>5.0000</td>\n",
       "      <td>1.0000</td>\n",
       "      <td>4.5000</td>\n",
       "      <td>21.7000</td>\n",
       "      <td>16.0000</td>\n",
       "      <td>2.0000</td>\n",
       "      <td>6.0000</td>\n",
       "      <td>2.0000</td>\n",
       "      <td>58.2000</td>\n",
       "      <td>2014</td>\n",
       "      <td>1</td>\n",
       "      <td>276</td>\n",
       "      <td>Monday</td>\n",
       "    </tr>\n",
       "    <tr>\n",
       "      <th>...</th>\n",
       "      <td>...</td>\n",
       "      <td>...</td>\n",
       "      <td>...</td>\n",
       "      <td>...</td>\n",
       "      <td>...</td>\n",
       "      <td>...</td>\n",
       "      <td>...</td>\n",
       "      <td>...</td>\n",
       "      <td>...</td>\n",
       "      <td>...</td>\n",
       "      <td>...</td>\n",
       "      <td>...</td>\n",
       "      <td>...</td>\n",
       "      <td>...</td>\n",
       "    </tr>\n",
       "    <tr>\n",
       "      <th>2101</th>\n",
       "      <td>10/4/2019</td>\n",
       "      <td>7.3400</td>\n",
       "      <td>5.6830</td>\n",
       "      <td>2.2500</td>\n",
       "      <td>22.4500</td>\n",
       "      <td>13.0000</td>\n",
       "      <td>0.0000</td>\n",
       "      <td>1.0000</td>\n",
       "      <td>1.0000</td>\n",
       "      <td>52.7230</td>\n",
       "      <td>2019</td>\n",
       "      <td>10</td>\n",
       "      <td>276</td>\n",
       "      <td>Friday</td>\n",
       "    </tr>\n",
       "    <tr>\n",
       "      <th>2102</th>\n",
       "      <td>10/5/2019</td>\n",
       "      <td>3.8400</td>\n",
       "      <td>5.0100</td>\n",
       "      <td>6.0000</td>\n",
       "      <td>25.4000</td>\n",
       "      <td>7.0000</td>\n",
       "      <td>0.0000</td>\n",
       "      <td>0.0000</td>\n",
       "      <td>0.3300</td>\n",
       "      <td>47.5800</td>\n",
       "      <td>2019</td>\n",
       "      <td>10</td>\n",
       "      <td>276</td>\n",
       "      <td>Saturday</td>\n",
       "    </tr>\n",
       "    <tr>\n",
       "      <th>2103</th>\n",
       "      <td>10/6/2019</td>\n",
       "      <td>4.0000</td>\n",
       "      <td>11.6900</td>\n",
       "      <td>2.0000</td>\n",
       "      <td>34.6000</td>\n",
       "      <td>6.0000</td>\n",
       "      <td>0.0000</td>\n",
       "      <td>5.0000</td>\n",
       "      <td>4.2000</td>\n",
       "      <td>67.4900</td>\n",
       "      <td>2019</td>\n",
       "      <td>10</td>\n",
       "      <td>276</td>\n",
       "      <td>Sunday</td>\n",
       "    </tr>\n",
       "    <tr>\n",
       "      <th>2104</th>\n",
       "      <td>10/7/2019</td>\n",
       "      <td>7.3400</td>\n",
       "      <td>4.5070</td>\n",
       "      <td>3.0000</td>\n",
       "      <td>50.8000</td>\n",
       "      <td>6.0000</td>\n",
       "      <td>0.0000</td>\n",
       "      <td>10.0000</td>\n",
       "      <td>1.0000</td>\n",
       "      <td>82.6470</td>\n",
       "      <td>2019</td>\n",
       "      <td>10</td>\n",
       "      <td>276</td>\n",
       "      <td>Monday</td>\n",
       "    </tr>\n",
       "    <tr>\n",
       "      <th>2105</th>\n",
       "      <td>10/8/2019</td>\n",
       "      <td>0.3300</td>\n",
       "      <td>1.7300</td>\n",
       "      <td>0.5000</td>\n",
       "      <td>44.3000</td>\n",
       "      <td>20.0000</td>\n",
       "      <td>2.0000</td>\n",
       "      <td>2.0000</td>\n",
       "      <td>0.0000</td>\n",
       "      <td>70.8600</td>\n",
       "      <td>2019</td>\n",
       "      <td>10</td>\n",
       "      <td>190</td>\n",
       "      <td>Tuesday</td>\n",
       "    </tr>\n",
       "  </tbody>\n",
       "</table>\n",
       "<p>2106 rows × 14 columns</p>\n",
       "</div>"
      ],
      "text/plain": [
       "          datum  M01AB   M01AE  N02BA   N02BE    N05B   N05C     R03    R06  \\\n",
       "0      1/2/2014 0.0000  3.6700 3.4000 32.4000  7.0000 0.0000  0.0000 2.0000   \n",
       "1      1/3/2014 8.0000  4.0000 4.4000 50.6000 16.0000 0.0000 20.0000 4.0000   \n",
       "2      1/4/2014 2.0000  1.0000 6.5000 61.8500 10.0000 0.0000  9.0000 1.0000   \n",
       "3      1/5/2014 4.0000  3.0000 7.0000 41.1000  8.0000 0.0000  3.0000 0.0000   \n",
       "4      1/6/2014 5.0000  1.0000 4.5000 21.7000 16.0000 2.0000  6.0000 2.0000   \n",
       "...         ...    ...     ...    ...     ...     ...    ...     ...    ...   \n",
       "2101  10/4/2019 7.3400  5.6830 2.2500 22.4500 13.0000 0.0000  1.0000 1.0000   \n",
       "2102  10/5/2019 3.8400  5.0100 6.0000 25.4000  7.0000 0.0000  0.0000 0.3300   \n",
       "2103  10/6/2019 4.0000 11.6900 2.0000 34.6000  6.0000 0.0000  5.0000 4.2000   \n",
       "2104  10/7/2019 7.3400  4.5070 3.0000 50.8000  6.0000 0.0000 10.0000 1.0000   \n",
       "2105  10/8/2019 0.3300  1.7300 0.5000 44.3000 20.0000 2.0000  2.0000 0.0000   \n",
       "\n",
       "      Total sales  Year  Month  Hour Weekday Name  \n",
       "0         48.4700  2014      1   248     Thursday  \n",
       "1        107.0000  2014      1   276       Friday  \n",
       "2         91.3500  2014      1   276     Saturday  \n",
       "3         66.1000  2014      1   276       Sunday  \n",
       "4         58.2000  2014      1   276       Monday  \n",
       "...           ...   ...    ...   ...          ...  \n",
       "2101      52.7230  2019     10   276       Friday  \n",
       "2102      47.5800  2019     10   276     Saturday  \n",
       "2103      67.4900  2019     10   276       Sunday  \n",
       "2104      82.6470  2019     10   276       Monday  \n",
       "2105      70.8600  2019     10   190      Tuesday  \n",
       "\n",
       "[2106 rows x 14 columns]"
      ]
     },
     "execution_count": 780,
     "metadata": {},
     "output_type": "execute_result"
    }
   ],
   "source": [
    "#Reading dataset\n",
    "dataset = pd.read_csv('salesdaily_pharma_datatoread.csv')\n",
    "dataset"
   ]
  },
  {
   "cell_type": "code",
   "execution_count": 781,
   "metadata": {},
   "outputs": [
    {
     "name": "stdout",
     "output_type": "stream",
     "text": [
      "<class 'pandas.core.frame.DataFrame'>\n",
      "RangeIndex: 2106 entries, 0 to 2105\n",
      "Data columns (total 2 columns):\n",
      " #   Column       Non-Null Count  Dtype         \n",
      "---  ------       --------------  -----         \n",
      " 0   datum        2106 non-null   datetime64[ns]\n",
      " 1   Total sales  2106 non-null   float64       \n",
      "dtypes: datetime64[ns](1), float64(1)\n",
      "memory usage: 33.0 KB\n",
      "None\n"
     ]
    }
   ],
   "source": [
    "#DATA PREPROCESSING \n",
    "#convert string Date time into Python Date time object\n",
    "dataset['datum'] = pd.to_datetime(dataset['datum'])\n",
    "#removing unwanted columns\n",
    "to_drop = ['M01AB', 'M01AE', 'N02BA', 'N02BE', 'N05B', 'N05C', 'R03', 'R06', 'Year', 'Month', 'Hour', 'Weekday Name'] #removing unwanted columns\n",
    "dataset.drop(columns=to_drop, inplace=True)\n",
    "print(dataset.info()) # to check for empty values\n",
    "dataset = dataset.groupby('datum')['Total sales'].sum().reset_index()"
   ]
  },
  {
   "cell_type": "code",
   "execution_count": 782,
   "metadata": {},
   "outputs": [
    {
     "data": {
      "text/plain": [
       "DatetimeIndex(['2014-01-02', '2014-01-03', '2014-01-04', '2014-01-05',\n",
       "               '2014-01-06', '2014-01-07', '2014-01-08', '2014-01-09',\n",
       "               '2014-01-10', '2014-01-11',\n",
       "               ...\n",
       "               '2019-09-29', '2019-09-30', '2019-10-01', '2019-10-02',\n",
       "               '2019-10-03', '2019-10-04', '2019-10-05', '2019-10-06',\n",
       "               '2019-10-07', '2019-10-08'],\n",
       "              dtype='datetime64[ns]', name='datum', length=2106, freq=None)"
      ]
     },
     "execution_count": 782,
     "metadata": {},
     "output_type": "execute_result"
    }
   ],
   "source": [
    "#Indexing with Time Series Data\n",
    "dataset = dataset.set_index('datum')\n",
    "dataset.index"
   ]
  },
  {
   "cell_type": "code",
   "execution_count": 749,
   "metadata": {},
   "outputs": [
    {
     "name": "stdout",
     "output_type": "stream",
     "text": [
      "198.95\n"
     ]
    },
    {
     "data": {
      "text/html": [
       "<div>\n",
       "<style scoped>\n",
       "    .dataframe tbody tr th:only-of-type {\n",
       "        vertical-align: middle;\n",
       "    }\n",
       "\n",
       "    .dataframe tbody tr th {\n",
       "        vertical-align: top;\n",
       "    }\n",
       "\n",
       "    .dataframe thead th {\n",
       "        text-align: right;\n",
       "    }\n",
       "</style>\n",
       "<table border=\"1\" class=\"dataframe\">\n",
       "  <thead>\n",
       "    <tr style=\"text-align: right;\">\n",
       "      <th></th>\n",
       "      <th>datum</th>\n",
       "      <th>Total sales</th>\n",
       "    </tr>\n",
       "  </thead>\n",
       "  <tbody>\n",
       "    <tr>\n",
       "      <th>0</th>\n",
       "      <td>2014-01-02</td>\n",
       "      <td>48.4700</td>\n",
       "    </tr>\n",
       "    <tr>\n",
       "      <th>1</th>\n",
       "      <td>2014-01-03</td>\n",
       "      <td>107.0000</td>\n",
       "    </tr>\n",
       "    <tr>\n",
       "      <th>2</th>\n",
       "      <td>2014-01-04</td>\n",
       "      <td>91.3500</td>\n",
       "    </tr>\n",
       "    <tr>\n",
       "      <th>3</th>\n",
       "      <td>2014-01-05</td>\n",
       "      <td>66.1000</td>\n",
       "    </tr>\n",
       "    <tr>\n",
       "      <th>4</th>\n",
       "      <td>2014-01-06</td>\n",
       "      <td>58.2000</td>\n",
       "    </tr>\n",
       "    <tr>\n",
       "      <th>...</th>\n",
       "      <td>...</td>\n",
       "      <td>...</td>\n",
       "    </tr>\n",
       "    <tr>\n",
       "      <th>2101</th>\n",
       "      <td>2019-10-04</td>\n",
       "      <td>52.7230</td>\n",
       "    </tr>\n",
       "    <tr>\n",
       "      <th>2102</th>\n",
       "      <td>2019-10-05</td>\n",
       "      <td>47.5800</td>\n",
       "    </tr>\n",
       "    <tr>\n",
       "      <th>2103</th>\n",
       "      <td>2019-10-06</td>\n",
       "      <td>67.4900</td>\n",
       "    </tr>\n",
       "    <tr>\n",
       "      <th>2104</th>\n",
       "      <td>2019-10-07</td>\n",
       "      <td>82.6470</td>\n",
       "    </tr>\n",
       "    <tr>\n",
       "      <th>2105</th>\n",
       "      <td>2019-10-08</td>\n",
       "      <td>70.8600</td>\n",
       "    </tr>\n",
       "  </tbody>\n",
       "</table>\n",
       "<p>2079 rows × 2 columns</p>\n",
       "</div>"
      ],
      "text/plain": [
       "          datum  Total sales\n",
       "0    2014-01-02      48.4700\n",
       "1    2014-01-03     107.0000\n",
       "2    2014-01-04      91.3500\n",
       "3    2014-01-05      66.1000\n",
       "4    2014-01-06      58.2000\n",
       "...         ...          ...\n",
       "2101 2019-10-04      52.7230\n",
       "2102 2019-10-05      47.5800\n",
       "2103 2019-10-06      67.4900\n",
       "2104 2019-10-07      82.6470\n",
       "2105 2019-10-08      70.8600\n",
       "\n",
       "[2079 rows x 2 columns]"
      ]
     },
     "execution_count": 749,
     "metadata": {},
     "output_type": "execute_result"
    }
   ],
   "source": [
    "#Removing outliers\n",
    "Highest_tsales = (df['Total sales'].max())\n",
    "print (Highest_tsales)\n",
    "df = df[(df[\"Total sales\"] <198.95) & (df[\"Total sales\"]> 0)]\n",
    "df"
   ]
  },
  {
   "cell_type": "code",
   "execution_count": 783,
   "metadata": {},
   "outputs": [
    {
     "name": "stdout",
     "output_type": "stream",
     "text": [
      "46.7075\n",
      "72.17\n"
     ]
    }
   ],
   "source": [
    "#Removing outliers using interquartile range \n",
    "Q1 = df[\"Total sales\"].quantile(0.25) #calculating quantiles to know what are the outliers\n",
    "print (Q1)\n",
    "Q3 = df[\"Total sales\"].quantile(0.75)\n",
    "print (Q3)\n",
    "IQR = Q3 - Q1\n",
    "lower =  Q1 - 1.5 * IQR # the lower and upper bounds for data based on outliers\n",
    "upper = Q3 + 1.5 * IQR\n",
    "df = df[(df[\"Total sales\"] < upper) & (df[\"Total sales\"]> lower)]"
   ]
  },
  {
   "cell_type": "code",
   "execution_count": 784,
   "metadata": {},
   "outputs": [
    {
     "data": {
      "text/html": [
       "<div>\n",
       "<style scoped>\n",
       "    .dataframe tbody tr th:only-of-type {\n",
       "        vertical-align: middle;\n",
       "    }\n",
       "\n",
       "    .dataframe tbody tr th {\n",
       "        vertical-align: top;\n",
       "    }\n",
       "\n",
       "    .dataframe thead th {\n",
       "        text-align: right;\n",
       "    }\n",
       "</style>\n",
       "<table border=\"1\" class=\"dataframe\">\n",
       "  <thead>\n",
       "    <tr style=\"text-align: right;\">\n",
       "      <th></th>\n",
       "      <th>datum</th>\n",
       "      <th>Total sales</th>\n",
       "    </tr>\n",
       "  </thead>\n",
       "  <tbody>\n",
       "    <tr>\n",
       "      <th>2014-01-02</th>\n",
       "      <td>2014-01-02</td>\n",
       "      <td>48.4700</td>\n",
       "    </tr>\n",
       "    <tr>\n",
       "      <th>2014-01-03</th>\n",
       "      <td>2014-01-03</td>\n",
       "      <td>107.0000</td>\n",
       "    </tr>\n",
       "    <tr>\n",
       "      <th>2014-01-04</th>\n",
       "      <td>2014-01-04</td>\n",
       "      <td>91.3500</td>\n",
       "    </tr>\n",
       "    <tr>\n",
       "      <th>2014-01-05</th>\n",
       "      <td>2014-01-05</td>\n",
       "      <td>66.1000</td>\n",
       "    </tr>\n",
       "    <tr>\n",
       "      <th>2014-01-06</th>\n",
       "      <td>2014-01-06</td>\n",
       "      <td>58.2000</td>\n",
       "    </tr>\n",
       "    <tr>\n",
       "      <th>...</th>\n",
       "      <td>...</td>\n",
       "      <td>...</td>\n",
       "    </tr>\n",
       "    <tr>\n",
       "      <th>2019-07-29</th>\n",
       "      <td>2019-10-04</td>\n",
       "      <td>52.7230</td>\n",
       "    </tr>\n",
       "    <tr>\n",
       "      <th>2019-07-30</th>\n",
       "      <td>2019-10-05</td>\n",
       "      <td>47.5800</td>\n",
       "    </tr>\n",
       "    <tr>\n",
       "      <th>2019-07-31</th>\n",
       "      <td>2019-10-06</td>\n",
       "      <td>67.4900</td>\n",
       "    </tr>\n",
       "    <tr>\n",
       "      <th>2019-08-01</th>\n",
       "      <td>2019-10-07</td>\n",
       "      <td>82.6470</td>\n",
       "    </tr>\n",
       "    <tr>\n",
       "      <th>2019-08-02</th>\n",
       "      <td>2019-10-08</td>\n",
       "      <td>70.8600</td>\n",
       "    </tr>\n",
       "  </tbody>\n",
       "</table>\n",
       "<p>2039 rows × 2 columns</p>\n",
       "</div>"
      ],
      "text/plain": [
       "                datum  Total sales\n",
       "2014-01-02 2014-01-02      48.4700\n",
       "2014-01-03 2014-01-03     107.0000\n",
       "2014-01-04 2014-01-04      91.3500\n",
       "2014-01-05 2014-01-05      66.1000\n",
       "2014-01-06 2014-01-06      58.2000\n",
       "...               ...          ...\n",
       "2019-07-29 2019-10-04      52.7230\n",
       "2019-07-30 2019-10-05      47.5800\n",
       "2019-07-31 2019-10-06      67.4900\n",
       "2019-08-01 2019-10-07      82.6470\n",
       "2019-08-02 2019-10-08      70.8600\n",
       "\n",
       "[2039 rows x 2 columns]"
      ]
     },
     "execution_count": 784,
     "metadata": {},
     "output_type": "execute_result"
    }
   ],
   "source": [
    "#setting format according to date-time and sorting based on datum column\n",
    "df.sort_values('datum', inplace=True, ascending=True)\n",
    "df = df.reset_index(drop=True)\n",
    "df.index = pd.to_datetime(df.index, origin=pd.Timestamp('2014-01-02'), unit='D')\n",
    "df "
   ]
  },
  {
   "cell_type": "code",
   "execution_count": 785,
   "metadata": {},
   "outputs": [
    {
     "data": {
      "image/png": "[encoded data removed]",
      "text/plain": [
       "<Figure size 1296x1152 with 1 Axes>"
      ]
     },
     "metadata": {
      "needs_background": "light"
     },
     "output_type": "display_data"
    }
   ],
   "source": [
    "#Resampling based on mean per day\n",
    "fig = plt.figure(figsize=(18,16))\n",
    "fig.subplots_adjust(hspace=.4)\n",
    "ax1 = fig.add_subplot(5,1,1)\n",
    "ax1.plot(df.resample('M').mean(),linewidth=1)\n",
    "ax1.set_title('Mean sale over the month')\n",
    "ax1.tick_params(axis='both', which='major')"
   ]
  },
  {
   "cell_type": "code",
   "execution_count": 786,
   "metadata": {},
   "outputs": [
    {
     "name": "stdout",
     "output_type": "stream",
     "text": [
      "Statistics=60.293, p=0.000\n",
      "Data does not look Gaussian (reject H0)\n"
     ]
    }
   ],
   "source": [
    "#Testing if data is normal\n",
    "stat, p = stats.normaltest(df['Total sales'])\n",
    "print('Statistics=%.3f, p=%.3f' % (stat, p))\n",
    "alpha = 0.05\n",
    "if p > alpha:\n",
    "    print('Data looks Gaussian (fail to reject H0)')\n",
    "else:\n",
    "    print('Data does not look Gaussian (reject H0)')"
   ]
  },
  {
   "cell_type": "markdown",
   "metadata": {},
   "source": [
    "df"
   ]
  },
  {
   "cell_type": "code",
   "execution_count": 787,
   "metadata": {},
   "outputs": [],
   "source": [
    "#Checking stationarity \n",
    "df2 = df.resample('W').mean()\n",
    "\n",
    "def test_stationarity(timeseries):\n",
    "    rolmean = timeseries.rolling(window=30).mean()\n",
    "    rolstd = timeseries.rolling(window=30).std()\n",
    "    \n",
    "    plt.figure(figsize=(14,5))\n",
    "    sns.despine(left=True)\n",
    "    orig = plt.plot(timeseries, color='blue',label='Original')\n",
    "    mean = plt.plot(rolmean, color='red', label='Rolling Mean')\n",
    "    std = plt.plot(rolstd, color='black', label = 'Rolling Std')\n",
    "\n",
    "    plt.legend(loc='best'); plt.title('Rolling Mean & Standard Deviation')\n",
    "    plt.show()\n",
    "    \n",
    "    print ('<Results of Dickey-Fuller Test>')\n",
    "    dftest = adfuller(timeseries, autolag='AIC')\n",
    "    dfoutput = pd.Series(dftest[0:4],\n",
    "                         index=['Test Statistic','p-value','#Lags Used','Number of Observations Used'])\n",
    "    for key,value in dftest[4].items():\n",
    "        dfoutput['Critical Value (%s)'%key] = value\n",
    "    print(dfoutput)"
   ]
  },
  {
   "cell_type": "code",
   "execution_count": 788,
   "metadata": {},
   "outputs": [
    {
     "data": {
      "image/png": "[encoded data removed]",
      "text/plain": [
       "<Figure size 1008x360 with 1 Axes>"
      ]
     },
     "metadata": {
      "needs_background": "light"
     },
     "output_type": "display_data"
    },
    {
     "name": "stdout",
     "output_type": "stream",
     "text": [
      "<Results of Dickey-Fuller Test>\n",
      "Test Statistic                 -3.5618\n",
      "p-value                         0.0065\n",
      "#Lags Used                      8.0000\n",
      "Number of Observations Used   283.0000\n",
      "Critical Value (1%)            -3.4537\n",
      "Critical Value (5%)            -2.8718\n",
      "Critical Value (10%)           -2.5722\n",
      "dtype: float64\n",
      "<class 'pandas.core.frame.DataFrame'>\n",
      "DatetimeIndex: 292 entries, 2014-01-05 to 2019-08-04\n",
      "Freq: W-SUN\n",
      "Data columns (total 1 columns):\n",
      " #   Column       Non-Null Count  Dtype  \n",
      "---  ------       --------------  -----  \n",
      " 0   Total sales  292 non-null    float64\n",
      "dtypes: float64(1)\n",
      "memory usage: 4.6 KB\n",
      "None\n"
     ]
    }
   ],
   "source": [
    "test_stationarity(df2)\n",
    "#p-value <= 0.05: Reject the null hypothesis (H0), the data does not have a unit root and is stationary.\n",
    "print(df2.info())"
   ]
  },
  {
   "cell_type": "code",
   "execution_count": 789,
   "metadata": {},
   "outputs": [],
   "source": [
    "dataset = df2.to_numpy() #numpy.ndarray\n",
    "dataset = dataset.astype('float32')\n",
    "dataset = np.reshape(dataset, (-1, 1))\n",
    "scaler = MinMaxScaler(feature_range=(0, 1))\n",
    "dataset = scaler.fit_transform(dataset)\n",
    "train_size = int(len(dataset) * 0.60)\n",
    "test_size = len(dataset) - train_size\n",
    "train, test = dataset[0:train_size,:], dataset[train_size:len(dataset),:]"
   ]
  },
  {
   "cell_type": "code",
   "execution_count": 790,
   "metadata": {},
   "outputs": [],
   "source": [
    "# convert an array of values into a dataset matrix\n",
    "def create_dataset(dataset, look_back=1):\n",
    "    X, Y = [], []\n",
    "    for i in range(len(dataset)-look_back-1):\n",
    "        a = dataset[i:(i+look_back), 0]\n",
    "        X.append(a)\n",
    "        Y.append(dataset[i + look_back, 0])\n",
    "    return np.array(X), np.array(Y)"
   ]
  },
  {
   "cell_type": "code",
   "execution_count": 791,
   "metadata": {},
   "outputs": [],
   "source": [
    "# reshape into X=t and Y=t+1\n",
    "look_back = 30\n",
    "X_train, Y_train = create_dataset(train, look_back)\n",
    "X_test, Y_test = create_dataset(test, look_back)"
   ]
  },
  {
   "cell_type": "code",
   "execution_count": 792,
   "metadata": {},
   "outputs": [
    {
     "data": {
      "text/plain": [
       "(144, 30)"
      ]
     },
     "execution_count": 792,
     "metadata": {},
     "output_type": "execute_result"
    }
   ],
   "source": [
    "X_train.shape"
   ]
  },
  {
   "cell_type": "code",
   "execution_count": 793,
   "metadata": {},
   "outputs": [
    {
     "data": {
      "text/plain": [
       "(144,)"
      ]
     },
     "execution_count": 793,
     "metadata": {},
     "output_type": "execute_result"
    }
   ],
   "source": [
    "Y_train.shape"
   ]
  },
  {
   "cell_type": "code",
   "execution_count": 794,
   "metadata": {},
   "outputs": [],
   "source": [
    "# reshape input to be [samples, time steps, features]\n",
    "X_train = np.reshape(X_train, (X_train.shape[0], 1, X_train.shape[1]))\n",
    "X_test = np.reshape(X_test, (X_test.shape[0], 1, X_test.shape[1]))"
   ]
  },
  {
   "cell_type": "code",
   "execution_count": 795,
   "metadata": {},
   "outputs": [
    {
     "data": {
      "text/plain": [
       "(144, 1, 30)"
      ]
     },
     "execution_count": 795,
     "metadata": {},
     "output_type": "execute_result"
    }
   ],
   "source": [
    "X_train.shape"
   ]
  },
  {
   "cell_type": "code",
   "execution_count": 796,
   "metadata": {},
   "outputs": [
    {
     "name": "stdout",
     "output_type": "stream",
     "text": [
      "Train on 144 samples, validate on 86 samples\n",
      "Epoch 1/20\n",
      "144/144 [==============================] - 3s 23ms/step - loss: 0.0735 - val_loss: 0.0387\n",
      "Epoch 2/20\n",
      "144/144 [==============================] - 0s 238us/step - loss: 0.0434 - val_loss: 0.0369\n",
      "Epoch 3/20\n",
      "144/144 [==============================] - 0s 233us/step - loss: 0.0400 - val_loss: 0.0342\n",
      "Epoch 4/20\n",
      "144/144 [==============================] - 0s 235us/step - loss: 0.0368 - val_loss: 0.0313\n",
      "Epoch 5/20\n",
      "144/144 [==============================] - 0s 241us/step - loss: 0.0338 - val_loss: 0.0298\n",
      "Epoch 6/20\n",
      "144/144 [==============================] - 0s 225us/step - loss: 0.0302 - val_loss: 0.0283\n",
      "Epoch 7/20\n",
      "144/144 [==============================] - 0s 235us/step - loss: 0.0320 - val_loss: 0.0271\n",
      "Epoch 8/20\n",
      "144/144 [==============================] - 0s 211us/step - loss: 0.0324 - val_loss: 0.0259\n",
      "Epoch 9/20\n",
      "144/144 [==============================] - 0s 265us/step - loss: 0.0260 - val_loss: 0.0250\n",
      "Epoch 10/20\n",
      "144/144 [==============================] - 0s 212us/step - loss: 0.0261 - val_loss: 0.0241\n",
      "Epoch 11/20\n",
      "144/144 [==============================] - 0s 215us/step - loss: 0.0257 - val_loss: 0.0235\n",
      "Epoch 12/20\n",
      "144/144 [==============================] - 0s 242us/step - loss: 0.0260 - val_loss: 0.0229\n",
      "Epoch 13/20\n",
      "144/144 [==============================] - 0s 203us/step - loss: 0.0238 - val_loss: 0.0226\n",
      "Epoch 14/20\n",
      "144/144 [==============================] - 0s 190us/step - loss: 0.0241 - val_loss: 0.0221\n",
      "Epoch 15/20\n",
      "144/144 [==============================] - 0s 220us/step - loss: 0.0261 - val_loss: 0.0218\n",
      "Epoch 16/20\n",
      "144/144 [==============================] - 0s 228us/step - loss: 0.0250 - val_loss: 0.0215\n",
      "Epoch 17/20\n",
      "144/144 [==============================] - 0s 207us/step - loss: 0.0218 - val_loss: 0.0212\n",
      "Epoch 18/20\n",
      "144/144 [==============================] - 0s 183us/step - loss: 0.0214 - val_loss: 0.0211\n",
      "Epoch 19/20\n",
      "144/144 [==============================] - 0s 187us/step - loss: 0.0239 - val_loss: 0.0207\n",
      "Epoch 20/20\n",
      "144/144 [==============================] - 0s 196us/step - loss: 0.0245 - val_loss: 0.0206\n",
      "Model: \"sequential_32\"\n",
      "_________________________________________________________________\n",
      "Layer (type)                 Output Shape              Param #   \n",
      "=================================================================\n",
      "lstm_32 (LSTM)               (None, 20)                4080      \n",
      "_________________________________________________________________\n",
      "dropout_32 (Dropout)         (None, 20)                0         \n",
      "_________________________________________________________________\n",
      "dense_32 (Dense)             (None, 1)                 21        \n",
      "=================================================================\n",
      "Total params: 4,101\n",
      "Trainable params: 4,101\n",
      "Non-trainable params: 0\n",
      "_________________________________________________________________\n"
     ]
    }
   ],
   "source": [
    "model = Sequential()\n",
    "model.add(LSTM(20, input_shape=(X_train.shape[1], X_train.shape[2])))\n",
    "model.add(Dropout(0.2))\n",
    "model.add(Dense(1))\n",
    "model.compile(loss='mean_squared_error', optimizer='adam')\n",
    "\n",
    "history = model.fit(X_train, Y_train, epochs=20, batch_size=20, validation_data=(X_test, Y_test), \n",
    "                    callbacks=[EarlyStopping(monitor='val_loss', patience=10)], verbose=1, shuffle=False)\n",
    "\n",
    "# Training Phase\n",
    "model.summary()"
   ]
  },
  {
   "cell_type": "code",
   "execution_count": 797,
   "metadata": {},
   "outputs": [
    {
     "name": "stdout",
     "output_type": "stream",
     "text": [
      "Train Mean Absolute Error: 6.134012287640114\n",
      "Train Root Mean Squared Error: 8.306209387877303\n",
      "Test Mean Absolute Error: 7.177680582464323\n",
      "Test Root Mean Squared Error: 9.06262563497665\n"
     ]
    }
   ],
   "source": [
    "train_predict = model.predict(X_train)\n",
    "test_predict = model.predict(X_test)\n",
    "# invert predictions\n",
    "train_predict = scaler.inverse_transform(train_predict)\n",
    "Y_train = scaler.inverse_transform([Y_train])\n",
    "test_predict = scaler.inverse_transform(test_predict)\n",
    "Y_test = scaler.inverse_transform([Y_test])\n",
    "\n",
    "print('Train Mean Absolute Error:', mean_absolute_error(Y_train[0], train_predict[:,0]))\n",
    "print('Train Root Mean Squared Error:',np.sqrt(mean_squared_error(Y_train[0], train_predict[:,0])))\n",
    "print('Test Mean Absolute Error:', mean_absolute_error(Y_test[0], test_predict[:,0]))\n",
    "print('Test Root Mean Squared Error:',np.sqrt(mean_squared_error(Y_test[0], test_predict[:,0])))\n"
   ]
  },
  {
   "cell_type": "code",
   "execution_count": 798,
   "metadata": {},
   "outputs": [
    {
     "data": {
      "text/plain": [
       "(1, 86)"
      ]
     },
     "execution_count": 798,
     "metadata": {},
     "output_type": "execute_result"
    }
   ],
   "source": [
    "Y_test.shape"
   ]
  },
  {
   "cell_type": "code",
   "execution_count": 799,
   "metadata": {},
   "outputs": [
    {
     "data": {
      "image/png": "[encoded data removed]",
      "text/plain": [
       "<Figure size 576x288 with 1 Axes>"
      ]
     },
     "metadata": {
      "needs_background": "light"
     },
     "output_type": "display_data"
    }
   ],
   "source": [
    "plt.figure(figsize=(8,4))\n",
    "plt.plot(history.history['loss'], label='Train Loss')\n",
    "plt.plot(history.history['val_loss'], label='Test Loss')\n",
    "plt.title('model loss')\n",
    "plt.ylabel('loss')\n",
    "plt.xlabel('epochs')\n",
    "plt.legend(loc='upper right')\n",
    "plt.show();"
   ]
  },
  {
   "cell_type": "code",
   "execution_count": 800,
   "metadata": {},
   "outputs": [
    {
     "data": {
      "image/png": "[encoded data removed]",
      "text/plain": [
       "<Figure size 576x288 with 1 Axes>"
      ]
     },
     "metadata": {
      "needs_background": "light"
     },
     "output_type": "display_data"
    }
   ],
   "source": [
    "aa=[x for x in range(86)]\n",
    "plt.figure(figsize=(8,4))\n",
    "plt.plot(aa, Y_test[0][:86], marker='.', label=\"actual\")\n",
    "plt.plot(aa, test_predict[:,0][:86], 'r', label=\"prediction\")\n",
    "# plt.tick_params(left=False, labelleft=True) #remove ticks\n",
    "# plt.tick_params(left=False, labelleft=True) #remove ticks\n",
    "#plt.tight_layout()\n",
    "sns.despine(top=True)\n",
    "plt.subplots_adjust(left=0.07)\n",
    "plt.ylabel('Total sales', size=15)\n",
    "plt.xlabel('Time step', size=15)\n",
    "plt.legend(fontsize=15)\n",
    "plt.show();"
   ]
  }
 ],
 "metadata": {
  "kernelspec": {
   "display_name": "Python 3",
   "language": "python",
   "name": "python3"
  },
  "language_info": {
   "codemirror_mode": {
    "name": "ipython",
    "version": 3
   },
   "file_extension": ".py",
   "mimetype": "text/x-python",
   "name": "python",
   "nbconvert_exporter": "python",
   "pygments_lexer": "ipython3",
   "version": "3.6.10"
  }
 },
 "nbformat": 4,
 "nbformat_minor": 4
}
